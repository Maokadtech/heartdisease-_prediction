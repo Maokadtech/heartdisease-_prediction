{
 "cells": [
  {
   "cell_type": "code",
   "execution_count": 1,
   "metadata": {},
   "outputs": [],
   "source": [
    "import streamlit as st"
   ]
  },
  {
   "cell_type": "code",
   "execution_count": 2,
   "metadata": {},
   "outputs": [
    {
     "name": "stderr",
     "output_type": "stream",
     "text": [
      "C:\\Users\\USER\\Anaconda3\\New folder\\lib\\site-packages\\sklearn\\ensemble\\weight_boosting.py:29: DeprecationWarning: numpy.core.umath_tests is an internal NumPy module and should not be imported. It will be removed in a future NumPy release.\n",
      "  from numpy.core.umath_tests import inner1d\n",
      "2022-08-12 11:42:17.353 \n",
      "  \u001b[33m\u001b[1mWarning:\u001b[0m to view this Streamlit app on a browser, run it with the following\n",
      "  command:\n",
      "\n",
      "    streamlit run C:\\Users\\USER\\Anaconda3\\New folder\\lib\\site-packages\\ipykernel_launcher.py [ARGUMENTS]\n"
     ]
    },
    {
     "data": {
      "text/plain": [
       "DeltaGenerator(_root_container=0, _provided_cursor=None, _parent=None, _block_type=None, _form_data=None)"
      ]
     },
     "execution_count": 2,
     "metadata": {},
     "output_type": "execute_result"
    }
   ],
   "source": [
    "import numpy as np\n",
    "import pickle\n",
    "import streamlit as st\n",
    "\n",
    "\n",
    "heart_model=pickle.load(open('heartdiseases_model.sav','rb'))\n",
    "st.title('ML deployment')\n",
    "\n",
    "#age\tsex\tcp\ttrestbps\tchol\tfbs\trestecg\tthalach\texang\toldpeak\tslope\tca\tthal\n",
    "age=st.text_input('Age')\n",
    "sex=st.text_input('Sex')\n",
    "cp=st.text_input('cp')\n",
    "trestbps=st.text_input('trestbps')\n",
    "chol=st.text_input('cholestrol')\n",
    "fbs=st.text_input('fbs')\n",
    "restecg=st.text_input('restecg')\n",
    "thalach=st.text_input('thalach')\n",
    "exang=st.text_input\t('exang')\n",
    "oldpeak=st.text_input('oldpeak')\n",
    "slope=st.text_input\t('slope')\n",
    "ca=st.text_input('ca')\t\n",
    "thal=st.text_input('thal')\n",
    "heart_dis=''\n",
    "#creating a button\n",
    "if st.button('RESULT'):\n",
    "    heart_predict=heart_model([[age,sex,cp,trestbps,chol,fbs,restecg,thalach,exang,oldpeak,slope,ca,thal]])\n",
    "    if heart_predict==1:\n",
    "        heart_dis='heart disease detected'\n",
    "    else:\n",
    "        heart_dis= 'heart disease not detected'\n",
    "st.success(heart_dis)     "
   ]
  },
  {
   "cell_type": "code",
   "execution_count": null,
   "metadata": {},
   "outputs": [],
   "source": []
  }
 ],
 "metadata": {
  "kernelspec": {
   "display_name": "Python 3",
   "language": "python",
   "name": "python3"
  },
  "language_info": {
   "codemirror_mode": {
    "name": "ipython",
    "version": 3
   },
   "file_extension": ".py",
   "mimetype": "text/x-python",
   "name": "python",
   "nbconvert_exporter": "python",
   "pygments_lexer": "ipython3",
   "version": "3.6.4"
  }
 },
 "nbformat": 4,
 "nbformat_minor": 2
}
